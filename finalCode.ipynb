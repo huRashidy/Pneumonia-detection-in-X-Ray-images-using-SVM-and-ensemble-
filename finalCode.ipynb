{
 "cells": [
  {
   "cell_type": "markdown",
   "id": "b50f26ed",
   "metadata": {},
   "source": [
    "## Importing dependencies"
   ]
  },
  {
   "cell_type": "code",
   "execution_count": 1,
   "id": "2cf36380-276a-4322-92d5-4fcd5fe6be5c",
   "metadata": {},
   "outputs": [],
   "source": [
    "import warnings\n",
    "warnings.filterwarnings('ignore')"
   ]
  },
  {
   "cell_type": "code",
   "execution_count": 2,
   "id": "95d6c6cb",
   "metadata": {},
   "outputs": [],
   "source": [
    "import os\n",
    "import cv2\n",
    "import numpy as np \n",
    "import pandas as pd\n",
    "import seaborn as sns\n",
    "import matplotlib.pyplot as plt"
   ]
  },
  {
   "cell_type": "code",
   "execution_count": 3,
   "id": "af852783",
   "metadata": {},
   "outputs": [],
   "source": [
    "from sklearn.model_selection import train_test_split\n",
    "from sklearn.metrics import classification_report, confusion_matrix"
   ]
  },
  {
   "cell_type": "code",
   "execution_count": 4,
   "id": "fcd42d9f",
   "metadata": {},
   "outputs": [],
   "source": [
    "import tensorflow as tf"
   ]
  },
  {
   "cell_type": "code",
   "execution_count": 5,
   "id": "199e759d-8305-497b-a2f7-db6914572707",
   "metadata": {},
   "outputs": [],
   "source": [
    "import keras\n",
    "from keras.models import Sequential\n",
    "from keras.layers import Dense, Conv2D, MaxPool2D, Flatten, Dropout, BatchNormalization\n",
    "from keras.preprocessing.image import ImageDataGenerator\n",
    "from keras.callbacks import ReduceLROnPlateau"
   ]
  },
  {
   "cell_type": "markdown",
   "id": "5362cd0e",
   "metadata": {},
   "source": [
    "## Initializing Variables"
   ]
  },
  {
   "cell_type": "code",
   "execution_count": 6,
   "id": "715d92a0",
   "metadata": {},
   "outputs": [],
   "source": [
    "labels = ['PNEUMONIA', 'NORMAL']\n",
    "img_dim = 100\n",
    "img_size = img_dim * img_dim"
   ]
  },
  {
   "cell_type": "markdown",
   "id": "4020d63e",
   "metadata": {},
   "source": [
    "## Helper Functions"
   ]
  },
  {
   "cell_type": "code",
   "execution_count": 7,
   "id": "f98829fc-33a0-4b86-bf3d-8aec785298a3",
   "metadata": {},
   "outputs": [],
   "source": [
    "def get_training_data(data_dir):\n",
    "    data = [] \n",
    "    for label in labels: \n",
    "        path = os.path.join(data_dir, label)\n",
    "        class_num = labels.index(label)\n",
    "        for img in os.listdir(path):\n",
    "            try:\n",
    "                img_arr = cv2.imread(os.path.join(path, img), 0)\n",
    "                resized_arr = cv2.resize(img_arr, (img_dim, img_dim))\n",
    "                data.append([resized_arr, class_num])\n",
    "            except Exception as e:\n",
    "                print(e)\n",
    "    return np.array(data)"
   ]
  },
  {
   "cell_type": "code",
   "execution_count": 8,
   "id": "23810880",
   "metadata": {},
   "outputs": [],
   "source": [
    "def splitLabel(data):\n",
    "    features = []\n",
    "    labels = []\n",
    "    for feature, label in data:\n",
    "        features.append(feature)\n",
    "        labels.append(label)\n",
    "    return features, labels"
   ]
  },
  {
   "cell_type": "code",
   "execution_count": 9,
   "id": "84b6afff",
   "metadata": {},
   "outputs": [],
   "source": [
    "def normalizeReshape(x, y):\n",
    "    x = np.array(x) / 255\n",
    "    x = x.reshape(-1, img_dim, img_dim, 1)\n",
    "    y = np.array(y)\n",
    "    return x, y"
   ]
  },
  {
   "cell_type": "code",
   "execution_count": 10,
   "id": "bacda9be",
   "metadata": {},
   "outputs": [],
   "source": [
    "def dataAugmentation(data):\n",
    "    new_aug = []\n",
    "    for img in data:\n",
    "        img_aug = transform(image=img)['image']\n",
    "        new_aug.append(img_aug)\n",
    "    new_aug = np.array(new_aug)\n",
    "    return new_aug"
   ]
  },
  {
   "cell_type": "code",
   "execution_count": 11,
   "id": "0de8c07a",
   "metadata": {},
   "outputs": [],
   "source": [
    "def shuffleAugmentation(data, num):\n",
    "    data_shuffled = data.copy()\n",
    "    np.random.shuffle(data_shuffled)\n",
    "    data_cut = data_shuffled[:num]\n",
    "    data_aug = dataAugmentation(data_cut)\n",
    "    return data_aug"
   ]
  },
  {
   "cell_type": "code",
   "execution_count": 12,
   "id": "166c6d73",
   "metadata": {},
   "outputs": [],
   "source": [
    "def augment(data, folds, num):\n",
    "    aug_concat = []\n",
    "    for i in range(folds):\n",
    "        aug = shuffleAugmentation(data, num)\n",
    "        # aug_concat = np.concatenate((aug_concat, aug), axis=0)\n",
    "        aug_concat.append(aug)\n",
    "    aug_concat = np.array(aug_concat)\n",
    "    shape = aug_concat.shape\n",
    "    aug_concat = aug_concat.reshape(shape[0]*shape[1], img_dim, img_dim)\n",
    "    return aug_concat"
   ]
  },
  {
   "cell_type": "markdown",
   "id": "de699391",
   "metadata": {},
   "source": [
    "## Main code"
   ]
  },
  {
   "cell_type": "markdown",
   "id": "9bc67a60",
   "metadata": {},
   "source": [
    "#### loading data"
   ]
  },
  {
   "cell_type": "code",
   "execution_count": 13,
   "id": "71e68109-8992-4684-9cac-4cef6befeb18",
   "metadata": {},
   "outputs": [],
   "source": [
    "train = get_training_data(r'F:\\materials\\third year\\secondTerm\\AI\\Project\\Dataset\\DATASET\\chest_xray\\train')\n",
    "test = get_training_data(r'F:\\materials\\third year\\secondTerm\\AI\\Project\\Dataset\\DATASET\\chest_xray\\test')\n",
    "val = get_training_data( r'F:\\materials\\third year\\secondTerm\\AI\\Project\\Dataset\\DATASET\\chest_xray\\val')\n"
   ]
  },
  {
   "cell_type": "code",
   "execution_count": 14,
   "id": "48ea4356-42bf-415a-9976-c34344f7eeca",
   "metadata": {},
   "outputs": [
    {
     "name": "stdout",
     "output_type": "stream",
     "text": [
      "(2682, 2)\n"
     ]
    }
   ],
   "source": [
    "# getting balanced data: normal = pneumonia \n",
    "normal_arr_train = []\n",
    "pnemonia_arr_train = []\n",
    "for i in train:\n",
    "    if i[:][1]==0:\n",
    "        pnemonia_arr_train.append([i[:][0],0])\n",
    "    if i[:][1]==1:\n",
    "        normal_arr_train.append([i[:][0],1])\n",
    "\n",
    "pnemonia_arr_train = np.array(pnemonia_arr_train)\n",
    "training_pneu = pnemonia_arr_train[:1341]\n",
    "training_normal= np.array(normal_arr_train)\n",
    "training_balanced = np.concatenate((training_pneu ,training_normal) , axis = 0) \n",
    "np.random.shuffle(training_balanced)\n",
    "\n",
    "print(training_balanced.shape)"
   ]
  },
  {
   "cell_type": "code",
   "execution_count": 15,
   "id": "df1f77af-ac25-44a8-9cff-8ee395f61576",
   "metadata": {},
   "outputs": [
    {
     "name": "stdout",
     "output_type": "stream",
     "text": [
      "(2682, 100, 100)\n"
     ]
    }
   ],
   "source": [
    "x_balanced_train , y_balanced_train = splitLabel(training_balanced)\n",
    "x_balanced_train = np.array(x_balanced_train)\n",
    "y_balanced_train = np.array(y_balanced_train)\n",
    "\n",
    "print(x_balanced_train.shape)"
   ]
  },
  {
   "cell_type": "code",
   "execution_count": 16,
   "id": "a47c1e8e",
   "metadata": {},
   "outputs": [],
   "source": [
    "x_train, y_train = splitLabel(train)\n",
    "x_val, y_val = splitLabel(val)\n",
    "x_test, y_test = splitLabel(test)\n",
    "x_train_balanced, y_train_balanced = splitLabel(training_balanced)"
   ]
  },
  {
   "cell_type": "markdown",
   "id": "1c8ab0f5",
   "metadata": {},
   "source": [
    "#### data count visualization"
   ]
  },
  {
   "cell_type": "code",
   "execution_count": 17,
   "id": "03d3ed1e-67c6-4a3f-872c-5f6a7d23da7a",
   "metadata": {},
   "outputs": [
    {
     "data": {
      "image/png": "[encoded data removed]",
      "text/plain": [
       "<Figure size 432x288 with 1 Axes>"
      ]
     },
     "metadata": {},
     "output_type": "display_data"
    }
   ],
   "source": [
    "l = []\n",
    "normal = []\n",
    "pneumonia = []\n",
    "for i in train:\n",
    "    if(i[1] == 0):\n",
    "        l.append(\"Pneumonia\")\n",
    "        pneumonia.append(i[0])\n",
    "    else:\n",
    "        l.append(\"Normal\")\n",
    "        normal.append(i[0])\n",
    "sns.set_style('darkgrid')\n",
    "sns.countplot(l)\n",
    "plt.savefig('skewed_data.png')"
   ]
  },
  {
   "cell_type": "code",
   "execution_count": 18,
   "id": "dc975d48",
   "metadata": {},
   "outputs": [
    {
     "name": "stdout",
     "output_type": "stream",
     "text": [
      "Pneumonia count:  3875 , Normal count:  1341\n",
      "ratio of P/N =  2.889634601043997\n"
     ]
    }
   ],
   "source": [
    "print('Pneumonia count: ', l.count('Pneumonia'), ', Normal count: ', l.count('Normal'))\n",
    "print('ratio of P/N = ', 3875/1341)"
   ]
  },
  {
   "cell_type": "code",
   "execution_count": 19,
   "id": "e74a4e63",
   "metadata": {},
   "outputs": [
    {
     "name": "stdout",
     "output_type": "stream",
     "text": [
      "(1341, 100, 100) (3875, 100, 100)\n"
     ]
    }
   ],
   "source": [
    "normal = np.array(normal)\n",
    "pneumonia = np.array(pneumonia)\n",
    "print(normal.shape, pneumonia.shape)"
   ]
  },
  {
   "cell_type": "markdown",
   "id": "fccaf754",
   "metadata": {},
   "source": [
    "#### data augmentation"
   ]
  },
  {
   "cell_type": "code",
   "execution_count": 20,
   "id": "128dbf09",
   "metadata": {},
   "outputs": [],
   "source": [
    "import albumentations as A\n",
    "\n",
    "transform = A.Compose(\n",
    "    [A.CLAHE(),\n",
    "     A.RandomRotate90(),\n",
    "     A.Transpose(),\n",
    "     A.ShiftScaleRotate(shift_limit=0.0625, scale_limit=0.50,\n",
    "                        rotate_limit=45, p=.75),\n",
    "     A.Blur(blur_limit=3),\n",
    "     A.OpticalDistortion(),\n",
    "     A.GridDistortion(),\n",
    "     A.HueSaturationValue()])"
   ]
  },
  {
   "cell_type": "code",
   "execution_count": 21,
   "id": "d0e57f7a",
   "metadata": {},
   "outputs": [
    {
     "name": "stdout",
     "output_type": "stream",
     "text": [
      "(3741, 100, 100)\n"
     ]
    }
   ],
   "source": [
    "normal_augmented = augment(normal, 2, 1200)\n",
    "normal_new = np.concatenate((normal, normal_augmented), axis=0)\n",
    "print(normal_new.shape)\n",
    "np.random.shuffle(normal_new)"
   ]
  },
  {
   "cell_type": "code",
   "execution_count": 22,
   "id": "09d03340",
   "metadata": {},
   "outputs": [
    {
     "name": "stdout",
     "output_type": "stream",
     "text": [
      "(7616, 100, 100) (7616,)\n"
     ]
    }
   ],
   "source": [
    "x_train_new = np.concatenate((pneumonia, normal_new), axis=0)\n",
    "y0 = np.zeros(l.count('Pneumonia'))\n",
    "y1 = np.ones(normal_new.shape[0])\n",
    "y_train_new = np.concatenate((y0, y1), axis=0)\n",
    "\n",
    "print(x_train_new.shape, y_train_new.shape)"
   ]
  },
  {
   "cell_type": "markdown",
   "id": "f01bd04f",
   "metadata": {},
   "source": [
    "#### data normalization and reshaping"
   ]
  },
  {
   "cell_type": "code",
   "execution_count": 110,
   "id": "60bfce83",
   "metadata": {},
   "outputs": [
    {
     "name": "stdout",
     "output_type": "stream",
     "text": [
      "(7616, 100, 100, 1) (7616,)\n"
     ]
    }
   ],
   "source": [
    "x_train, y_train = normalizeReshape(x_train_new, y_train_new)\n",
    "x_val, y_val = normalizeReshape(x_val, y_val)\n",
    "x_test, y_test = normalizeReshape(x_test, y_test)\n",
    "# x_train_balanced, y_train_balanced = normalizeReshape(x_train_balanced, y_train_balanced)"
   ]
  },
  {
   "cell_type": "code",
   "execution_count": 25,
   "id": "b4600554",
   "metadata": {},
   "outputs": [],
   "source": [
    "xMod_val = x_val.reshape(16, img_size)\n",
    "xMod_test = x_test.reshape(624, img_size)"
   ]
  },
  {
   "cell_type": "code",
   "execution_count": 26,
   "id": "5ee4d719",
   "metadata": {},
   "outputs": [
    {
     "name": "stdout",
     "output_type": "stream",
     "text": [
      "(7616, 100, 100, 1)\n",
      "(16, 100, 100, 1)\n",
      "(624, 100, 100, 1)\n"
     ]
    }
   ],
   "source": [
    "print(x_train.shape)\n",
    "# print(x_train_balanced.shape)\n",
    "print(x_val.shape)\n",
    "print(x_test.shape)"
   ]
  },
  {
   "cell_type": "markdown",
   "id": "0eead327",
   "metadata": {},
   "source": [
    "#### feature extraction"
   ]
  },
  {
   "cell_type": "code",
   "execution_count": 72,
   "id": "9da8312c-f7ce-46bc-a159-784745a1309b",
   "metadata": {},
   "outputs": [
    {
     "name": "stdout",
     "output_type": "stream",
     "text": [
      "(7616, 10000)\n"
     ]
    },
    {
     "data": {
      "image/png": "[encoded data removed]",
      "text/plain": [
       "<Figure size 432x288 with 1 Axes>"
      ]
     },
     "metadata": {},
     "output_type": "display_data"
    }
   ],
   "source": [
    "from sklearn.decomposition import PCA\n",
    "xMod = x_train.reshape(x_train.shape[0], img_size)\n",
    "print(xMod.shape)\n",
    "pca_7500 = PCA(n_components=7500)\n",
    "pca_7500.fit(xMod)\n",
    "\n",
    "\n",
    "plt.grid('on')\n",
    "plt.plot(np.cumsum(pca_7500.explained_variance_ratio_ * 100))\n",
    "plt.xlabel('Number of components')\n",
    "plt.ylabel('Explained variance')\n",
    "plt.savefig('pca_components_plot.png')"
   ]
  },
  {
   "cell_type": "code",
   "execution_count": 91,
   "id": "327cc156-e7d7-4163-98ed-d8b94d058aa3",
   "metadata": {},
   "outputs": [
    {
     "data": {
      "text/plain": [
       "Text(0.5, 1.0, 'Compressed image with 1000 components')"
      ]
     },
     "execution_count": 91,
     "metadata": {},
     "output_type": "execute_result"
    },
    {
     "data": {
      "image/png": "[encoded data removed]",
      "text/plain": [
       "<Figure size 432x288 with 1 Axes>"
      ]
     },
     "metadata": {},
     "output_type": "display_data"
    }
   ],
   "source": [
    "components = 1000\n",
    "pca_1000 = PCA(n_components=components)\n",
    "xMod_pca_1000_reduced = pca_1000.fit_transform(xMod)\n",
    "xMod_pca_1000_recovered = pca_1000.inverse_transform(xMod_pca_1000_reduced)\n",
    "\n",
    "image_pca_1000 = xMod_pca_1000_recovered[1,:].reshape([img_dim,img_dim])\n",
    "plt.imshow(image_pca_1000, cmap='gray_r')\n",
    "plt.title('Compressed image with ' + str(components) + ' components', fontsize=15, pad=15)\n"
   ]
  },
  {
   "cell_type": "code",
   "execution_count": 92,
   "id": "3c00bfb8",
   "metadata": {},
   "outputs": [],
   "source": [
    "x_val_pca_reduced = pca_1000.transform(xMod_val)\n",
    "x_test_pca_reduced = pca_1000.transform(xMod_test)\n"
   ]
  },
  {
   "cell_type": "code",
   "execution_count": 93,
   "id": "367c0440-b277-4dd1-a004-32c5822bf993",
   "metadata": {},
   "outputs": [
    {
     "data": {
      "text/plain": [
       "97.76204535237433"
      ]
     },
     "execution_count": 93,
     "metadata": {},
     "output_type": "execute_result"
    }
   ],
   "source": [
    "np.cumsum(pca_1000.explained_variance_ratio_ * 100)[-1]"
   ]
  },
  {
   "cell_type": "markdown",
   "id": "78e1fb14",
   "metadata": {},
   "source": [
    "#### Classifier: SVM"
   ]
  },
  {
   "cell_type": "code",
   "execution_count": 94,
   "id": "a558c0b2-1f9f-42dc-a56e-ce611693b24b",
   "metadata": {},
   "outputs": [
    {
     "data": {
      "text/plain": [
       "SVC(C=0.5, decision_function_shape='ovo', probability=True)"
      ]
     },
     "execution_count": 94,
     "metadata": {},
     "output_type": "execute_result"
    }
   ],
   "source": [
    "from sklearn.svm import SVC\n",
    "\n",
    "svm_clf = SVC(C=0.5 , probability = True , decision_function_shape = 'ovo')\n",
    "xMod_pca_1000_reduced\n",
    "svm_clf.fit(xMod_pca_1000_reduced, y_train)\n"
   ]
  },
  {
   "cell_type": "code",
   "execution_count": 95,
   "id": "210ce516-919a-4bdd-83ad-ff20a63ae966",
   "metadata": {},
   "outputs": [
    {
     "name": "stdout",
     "output_type": "stream",
     "text": [
      "train score =  0.9810924369747899\n",
      "val score =  0.75\n",
      "test score =  0.7836538461538461\n"
     ]
    }
   ],
   "source": [
    "print(\"train score = \", svm_clf.score(xMod_pca_1000_reduced, y_train))\n",
    "print(\"val score = \", svm_clf.score(x_val_pca_reduced, y_val))\n",
    "print(\"test score = \", svm_clf.score(x_test_pca_reduced, y_test))\n"
   ]
  },
  {
   "cell_type": "markdown",
   "id": "8c793df2-3d30-4bac-85f1-5ac7c517633a",
   "metadata": {},
   "source": [
    "plotting ROC curve"
   ]
  },
  {
   "cell_type": "code",
   "execution_count": 96,
   "id": "be86c722-918a-4185-9a85-fe24311775a8",
   "metadata": {},
   "outputs": [
    {
     "name": "stdout",
     "output_type": "stream",
     "text": [
      "(624,)\n"
     ]
    }
   ],
   "source": [
    "print(y_test.shape)\n",
    "y_scores = svm_clf.predict_proba(x_test_pca_reduced)\n",
    "y_decision_func = np.array(svm_clf.decision_function(x_test_pca_reduced))\n"
   ]
  },
  {
   "cell_type": "code",
   "execution_count": 97,
   "id": "d698d68b-faac-4b99-83ec-df485064dbbf",
   "metadata": {},
   "outputs": [
    {
     "name": "stdout",
     "output_type": "stream",
     "text": [
      "auc score  0.9193732193732194\n"
     ]
    },
    {
     "data": {
      "image/png": "[encoded data removed]",
      "text/plain": [
       "<Figure size 432x288 with 1 Axes>"
      ]
     },
     "metadata": {},
     "output_type": "display_data"
    }
   ],
   "source": [
    "from sklearn.metrics import roc_curve\n",
    "from sklearn.metrics import roc_auc_score\n",
    "\n",
    "fpr, tpr, thresholds = roc_curve(y_test, y_scores[:,1])\n",
    "\n",
    "def plot_roc_curve(fpr, tpr, label=None):\n",
    "    plt.plot(fpr, tpr, linewidth=2, label=label)\n",
    "    plt.plot([0, 1], [0, 1], 'k--') # dashed diagonal\n",
    "     # Add axis labels and grid\n",
    "print(\"auc score \" , roc_auc_score(y_test, y_scores[:,1]))\n",
    "\n",
    "plot_roc_curve(fpr, tpr)\n",
    "plt.show()"
   ]
  },
  {
   "cell_type": "markdown",
   "id": "c73be200",
   "metadata": {},
   "source": [
    "### Classifier: Logistic Regression"
   ]
  },
  {
   "cell_type": "code",
   "execution_count": 107,
   "id": "c2e9cc9b",
   "metadata": {},
   "outputs": [
    {
     "data": {
      "text/plain": [
       "LogisticRegression(random_state=0)"
      ]
     },
     "execution_count": 107,
     "metadata": {},
     "output_type": "execute_result"
    }
   ],
   "source": [
    "from sklearn.linear_model import LogisticRegression\n",
    "\n",
    "logistic_clf = LogisticRegression(random_state=0)\n",
    "\n",
    "logistic_clf.fit(xMod_pca_1000_reduced, y_train)\n"
   ]
  },
  {
   "cell_type": "code",
   "execution_count": 108,
   "id": "554206a1",
   "metadata": {},
   "outputs": [
    {
     "name": "stdout",
     "output_type": "stream",
     "text": [
      "train score =  0.9709821428571429\n",
      "val score =  0.875\n",
      "test score =  0.7467948717948718\n"
     ]
    }
   ],
   "source": [
    "print(\"train score = \", logistic_clf.score(xMod_pca_1000_reduced, y_train))\n",
    "print(\"val score = \", logistic_clf.score(x_val_pca_reduced, y_val))\n",
    "print(\"test score = \", logistic_clf.score(x_test_pca_reduced, y_test))"
   ]
  },
  {
   "cell_type": "markdown",
   "id": "5b8010a7",
   "metadata": {},
   "source": [
    "**ROC for logistic regression**"
   ]
  },
  {
   "cell_type": "code",
   "execution_count": 109,
   "id": "728f74a6",
   "metadata": {},
   "outputs": [
    {
     "name": "stdout",
     "output_type": "stream",
     "text": [
      "auc score  0.8231974578128424\n"
     ]
    },
    {
     "data": {
      "image/png": "[encoded data removed]",
      "text/plain": [
       "<Figure size 432x288 with 1 Axes>"
      ]
     },
     "metadata": {},
     "output_type": "display_data"
    }
   ],
   "source": [
    "y_scores = logistic_clf.predict_proba(x_test_pca_reduced)\n",
    "y_decision_func = np.array(logistic_clf.decision_function(x_test_pca_reduced))\n",
    "\n",
    "fpr, tpr, thresholds = roc_curve(y_test, y_scores[:, 1])\n",
    "\n",
    "\n",
    "def plot_roc_curve(fpr, tpr, label=None):\n",
    "    plt.plot(fpr, tpr, linewidth=2, label=label)\n",
    "    plt.plot([0, 1], [0, 1], 'k--')  # dashed diagonal\n",
    "\n",
    "    # Add axis labels and grid\n",
    "print(\"auc score \", roc_auc_score(y_test, y_scores[:, 1]))\n",
    "\n",
    "plot_roc_curve(fpr, tpr)\n",
    "plt.show()\n"
   ]
  },
  {
   "cell_type": "markdown",
   "id": "250ba89d",
   "metadata": {},
   "source": [
    "### Classifier: KNN"
   ]
  },
  {
   "cell_type": "code",
   "execution_count": 88,
   "id": "a2c58a8a",
   "metadata": {},
   "outputs": [
    {
     "data": {
      "text/plain": [
       "KNeighborsClassifier(n_neighbors=3)"
      ]
     },
     "execution_count": 88,
     "metadata": {},
     "output_type": "execute_result"
    }
   ],
   "source": [
    "from sklearn.neighbors import KNeighborsClassifier\n",
    "\n",
    "knn_clf = KNeighborsClassifier(n_neighbors=3)\n",
    "\n",
    "knn_clf.fit(xMod_pca_1000_reduced, y_train)\n"
   ]
  },
  {
   "cell_type": "code",
   "execution_count": 89,
   "id": "2f5d20d9",
   "metadata": {},
   "outputs": [
    {
     "name": "stdout",
     "output_type": "stream",
     "text": [
      "train score =  0.9600840336134454\n",
      "val score =  0.625\n",
      "test score =  0.7660256410256411\n"
     ]
    }
   ],
   "source": [
    "print(\"train score = \", knn_clf.score(xMod_pca_1000_reduced, y_train))\n",
    "print(\"val score = \", knn_clf.score(x_val_pca_reduced, y_val))\n",
    "print(\"test score = \", knn_clf.score(x_test_pca_reduced, y_test))\n"
   ]
  },
  {
   "cell_type": "markdown",
   "id": "16635498",
   "metadata": {},
   "source": [
    "**ROC for KNN**"
   ]
  },
  {
   "cell_type": "code",
   "execution_count": 90,
   "id": "7e011ab8",
   "metadata": {},
   "outputs": [
    {
     "name": "stdout",
     "output_type": "stream",
     "text": [
      "auc score  0.8075279421433267\n"
     ]
    },
    {
     "data": {
      "image/png": "[encoded data removed]",
      "text/plain": [
       "<Figure size 432x288 with 1 Axes>"
      ]
     },
     "metadata": {},
     "output_type": "display_data"
    }
   ],
   "source": [
    "y_scores = knn_clf.predict_proba(x_test_pca_reduced)\n",
    "# y_decision_func = np.array(knn_clf.decision_function(x_test_pca_reduced))\n",
    "\n",
    "fpr, tpr, thresholds = roc_curve(y_test, y_scores[:, 1])\n",
    "\n",
    "\n",
    "def plot_roc_curve(fpr, tpr, label=None):\n",
    "    plt.plot(fpr, tpr, linewidth=2, label=label)\n",
    "    plt.plot([0, 1], [0, 1], 'k--')  # dashed diagonal\n",
    "\n",
    "\n",
    "    # Add axis labels and grid\n",
    "print(\"auc score \", roc_auc_score(y_test, y_scores[:, 1]))\n",
    "\n",
    "plot_roc_curve(fpr, tpr)\n",
    "plt.show()\n"
   ]
  },
  {
   "cell_type": "markdown",
   "id": "ec5937dd",
   "metadata": {},
   "source": [
    "#### Classifier: Ensemble Learning\n",
    "Voting classifiers method &rarr; KNN, SVM, and Logistic regression"
   ]
  },
  {
   "cell_type": "markdown",
   "id": "449b30bc-4b41-423e-92ac-c2be70254938",
   "metadata": {},
   "source": [
    "trying ensemble learning, voting classifiers method \n",
    "we wil use KNN, logistic regression and SVM classifiers"
   ]
  },
  {
   "cell_type": "code",
   "execution_count": 62,
   "id": "440c2188-9479-4d20-8be5-695fd77df84a",
   "metadata": {},
   "outputs": [],
   "source": [
    "from sklearn.ensemble import VotingClassifier\n",
    "from sklearn.linear_model import LogisticRegression\n",
    "from sklearn.neighbors import KNeighborsClassifier"
   ]
  },
  {
   "cell_type": "code",
   "execution_count": 63,
   "id": "891a8342",
   "metadata": {},
   "outputs": [],
   "source": [
    "log_clf = LogisticRegression(max_iter=500)\n",
    "svm_ens = SVC(C=0.3)\n",
    "neigh = KNeighborsClassifier(n_neighbors=1)"
   ]
  },
  {
   "cell_type": "code",
   "execution_count": 111,
   "id": "28a5554f",
   "metadata": {},
   "outputs": [
    {
     "data": {
      "text/plain": [
       "VotingClassifier(estimators=[('lr', LogisticRegression(max_iter=500)),\n",
       "                             ('knn', KNeighborsClassifier(n_neighbors=1)),\n",
       "                             ('svc', SVC(C=0.3))])"
      ]
     },
     "execution_count": 111,
     "metadata": {},
     "output_type": "execute_result"
    }
   ],
   "source": [
    "voting_clf = VotingClassifier(\n",
    "    estimators=[('lr', log_clf), ('knn', neigh), ('svc', svm_ens) ],\n",
    "    voting='hard' \n",
    ")\n",
    "voting_clf.fit(xMod_pca_1000_reduced, y_train)\n"
   ]
  },
  {
   "cell_type": "code",
   "execution_count": 112,
   "id": "af4b44fd-c458-4b85-815d-c973bbdca044",
   "metadata": {},
   "outputs": [
    {
     "name": "stdout",
     "output_type": "stream",
     "text": [
      "train score =  0.992515756302521\n",
      "val score =  0.8125\n",
      "test score =  0.7756410256410257\n"
     ]
    }
   ],
   "source": [
    "print(\"train score = \", voting_clf.score(xMod_pca_1000_reduced, y_train))\n",
    "print(\"val score = \", voting_clf.score(x_val_pca_reduced, y_val))\n",
    "print(\"test score = \", voting_clf.score(x_test_pca_reduced, y_test))\n"
   ]
  },
  {
   "cell_type": "markdown",
   "id": "a328bdda",
   "metadata": {},
   "source": [
    "#### Classifier: Ensemble Learning\n",
    "Voting classifiers method &rarr; KNN, SVM, Logistic regression, and Gradient Boosting"
   ]
  },
  {
   "cell_type": "code",
   "execution_count": 113,
   "id": "4eb89686",
   "metadata": {},
   "outputs": [],
   "source": [
    "from sklearn.ensemble import VotingClassifier\n",
    "from sklearn.linear_model import LogisticRegression\n",
    "from sklearn.neighbors import KNeighborsClassifier\n",
    "from sklearn.ensemble import GradientBoostingClassifier"
   ]
  },
  {
   "cell_type": "code",
   "execution_count": 114,
   "id": "d69ddb79",
   "metadata": {},
   "outputs": [],
   "source": [
    "log_clf = LogisticRegression(max_iter=500)\n",
    "svm_ens = SVC(C=0.3)\n",
    "neigh = KNeighborsClassifier(n_neighbors=1)\n",
    "GB = GradientBoostingClassifier(n_estimators=100, learning_rate=1.0, max_depth=1, random_state=0)"
   ]
  },
  {
   "cell_type": "code",
   "execution_count": 115,
   "id": "5663197a",
   "metadata": {},
   "outputs": [
    {
     "data": {
      "text/plain": [
       "VotingClassifier(estimators=[('lr', LogisticRegression(max_iter=500)),\n",
       "                             ('knn', KNeighborsClassifier(n_neighbors=1)),\n",
       "                             ('svc', SVC(C=0.3)),\n",
       "                             ('gb',\n",
       "                              GradientBoostingClassifier(learning_rate=1.0,\n",
       "                                                         max_depth=1,\n",
       "                                                         random_state=0))])"
      ]
     },
     "execution_count": 115,
     "metadata": {},
     "output_type": "execute_result"
    }
   ],
   "source": [
    "voting_clf = VotingClassifier(\n",
    "    estimators=[('lr', log_clf), ('knn', neigh), ('svc', svm_ens), ('gb' , GB)],\n",
    "    voting='hard'\n",
    ")\n",
    "voting_clf.fit(xMod_pca_1000_reduced, y_train)"
   ]
  },
  {
   "cell_type": "code",
   "execution_count": 117,
   "id": "e1c824f3-1952-44b8-b1d1-6197dfc5ca5b",
   "metadata": {},
   "outputs": [
    {
     "name": "stdout",
     "output_type": "stream",
     "text": [
      "train score =  0.9866071428571429\n",
      "val score =  0.75\n",
      "test score =  0.7580128205128205\n"
     ]
    }
   ],
   "source": [
    "print(\"train score = \", voting_clf.score(xMod_pca_1000_reduced, y_train))\n",
    "print(\"val score = \", voting_clf.score(x_val_pca_reduced, y_val))\n",
    "print(\"test score = \", voting_clf.score(x_test_pca_reduced, y_test))\n"
   ]
  },
  {
   "cell_type": "code",
   "execution_count": 83,
   "id": "af3b5829-36bb-4870-8797-981134ec7939",
   "metadata": {},
   "outputs": [],
   "source": []
  }
 ],
 "metadata": {
  "interpreter": {
   "hash": "94380d3fa34e14e3f6ac7f40b328e555842294a25e45f7373779828c30065ddb"
  },
  "kernelspec": {
   "display_name": "Python 3.9.0 64-bit",
   "language": "python",
   "name": "python3"
  },
  "language_info": {
   "codemirror_mode": {
    "name": "ipython",
    "version": 3
   },
   "file_extension": ".py",
   "mimetype": "text/x-python",
   "name": "python",
   "nbconvert_exporter": "python",
   "pygments_lexer": "ipython3",
   "version": "3.9.0"
  }
 },
 "nbformat": 4,
 "nbformat_minor": 5
}
